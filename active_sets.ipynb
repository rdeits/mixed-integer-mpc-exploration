{
 "cells": [
  {
   "cell_type": "code",
   "execution_count": 125,
   "metadata": {
    "collapsed": false
   },
   "outputs": [],
   "source": [
    "using JuMP\n",
    "using Gurobi\n",
    "using DataStructures: OrderedDict\n",
    "using Iterators: subsets"
   ]
  },
  {
   "cell_type": "code",
   "execution_count": 101,
   "metadata": {
    "collapsed": false
   },
   "outputs": [
    {
     "name": "stderr",
     "output_type": "stream",
     "text": [
      "WARNING: Method definition verify_form(JuMP.Model) in module Main at In[78]:2 overwritten at In[101]:2.\n"
     ]
    },
    {
     "data": {
      "text/plain": [
       "verify_form (generic function with 1 method)"
      ]
     },
     "execution_count": 101,
     "metadata": {},
     "output_type": "execute_result"
    }
   ],
   "source": [
    "function verify_form(model::Model)\n",
    "    isempty(model.obj.aff.vars) &&\n",
    "    isempty(model.sdpconstr) && \n",
    "    isempty(model.quadconstr) && \n",
    "    isempty(model.conicconstrDuals) &&\n",
    "    all(c.lb == -Inf || c.ub == Inf for c in model.linconstr)\n",
    "end"
   ]
  },
  {
   "cell_type": "code",
   "execution_count": 102,
   "metadata": {
    "collapsed": false
   },
   "outputs": [
    {
     "name": "stderr",
     "output_type": "stream",
     "text": [
      "WARNING: Method definition get_objective_matrix(JuMP.Model, Any, Any) in module Main at In[100]:2 overwritten at In[102]:2.\n",
      "WARNING: Method definition get_linconstr_matrices(Any, Any, Any) in module Main at In[100]:15 overwritten at In[102]:16.\n"
     ]
    },
    {
     "data": {
      "text/plain": [
       "get_linconstr_matrices (generic function with 1 method)"
      ]
     },
     "execution_count": 102,
     "metadata": {},
     "output_type": "execute_result"
    }
   ],
   "source": [
    "function get_objective_matrix(model::Model, vars, params)\n",
    "    @assert verify_form(model)\n",
    "    H = zeros(Float64, (length(vars), length(vars)))\n",
    "    for i in 1:length(model.obj.qcoeffs)\n",
    "        v1 = model.obj.qvars1[i]\n",
    "        v2 = model.obj.qvars2[i]\n",
    "        c = model.obj.qcoeffs[i]\n",
    "        @assert !haskey(params, v1)\n",
    "        @assert !haskey(params, v2)\n",
    "        H[vars[v1], vars[v2]] = c\n",
    "    end\n",
    "    H\n",
    "end\n",
    "\n",
    "function get_linconstr_matrices(model, vars, params)\n",
    "    @assert verify_form(model)\n",
    "    G = zeros(Float64, (length(model.linconstr), length(vars)))\n",
    "    W = zeros(Float64, length(model.linconstr))\n",
    "    S = zeros(Float64, (length(model.linconstr), length(params)))\n",
    "    \n",
    "    for (i, constraint) in enumerate(model.linconstr)\n",
    "        for (j, var) in enumerate(constraint.terms.vars)\n",
    "            coeff = constraint.terms.coeffs[j]\n",
    "            if constraint.lb == -Inf\n",
    "                W[i] = constraint.ub\n",
    "                if haskey(vars, var)\n",
    "                    G[i, vars[var]] = coeff\n",
    "                else\n",
    "                    S[i, params[var]] = -coeff\n",
    "                end\n",
    "            else\n",
    "                @assert constraint.ub == Inf\n",
    "                W[i] = -constraint.lb\n",
    "                if haskey(vars, var)\n",
    "                    G[i, vars[var]] = -coeff\n",
    "                else\n",
    "                    S[i, params[var]] = coeff\n",
    "                end\n",
    "            end\n",
    "        end\n",
    "    end\n",
    "    G, W, S\n",
    "end"
   ]
  },
  {
   "cell_type": "code",
   "execution_count": 103,
   "metadata": {
    "collapsed": false
   },
   "outputs": [
    {
     "data": {
      "text/latex": [
       "$$ \\begin{alignat*}{1}\\min\\quad & x^2 + y^2\\\\\n",
       "\\text{Subject to} \\quad & x - p_{1} \\leq 1\\\\\n",
       " & x + p_{2} \\geq -4\\\\\n",
       " & y - p_{3} \\leq 0\\\\\n",
       " & y + p_{4} \\geq -3\\\\\n",
       " & x + 2 y - p_{5} \\leq -4\\\\\n",
       " & p_{i} = 0 \\quad\\forall i \\in \\{1,2,\\dots,4,5\\}\\\\\n",
       " & x free\\\\\n",
       " & y free\\\\\n",
       "\\end{alignat*}\n",
       " $$"
      ],
      "text/plain": [
       "Minimization problem with:\n",
       " * 5 linear constraints\n",
       " * 7 variables\n",
       "Solver is Gurobi"
      ]
     },
     "execution_count": 103,
     "metadata": {},
     "output_type": "execute_result"
    }
   ],
   "source": [
    "model = Model(solver=GurobiSolver())\n",
    "@variables model begin\n",
    "    x\n",
    "    y\n",
    "end\n",
    "\n",
    "vars = OrderedDict{Variable, Int}(zip([x, y], 1:2))\n",
    "\n",
    "@variables model begin\n",
    "    p[1:5] == 0\n",
    "end\n",
    "\n",
    "params = OrderedDict{Variable, Int}(zip(p, 1:length(p)))\n",
    "\n",
    "constraints = [\n",
    "    @constraint model x <= 1 + p[1]\n",
    "    @constraint model x >= -4 - p[2]\n",
    "    @constraint model y <= 0 + p[3]\n",
    "    @constraint model y >= -3 - p[4]\n",
    "    @constraint model x + 2y <= -4 + p[5]\n",
    "]\n",
    "\n",
    "@objective model Min (x)^2 + (y)^2\n",
    "\n",
    "@assert verify_form(model)\n",
    "\n",
    "model"
   ]
  },
  {
   "cell_type": "code",
   "execution_count": 104,
   "metadata": {
    "collapsed": false
   },
   "outputs": [
    {
     "data": {
      "text/plain": [
       "(\n",
       "[1.0 0.0; -1.0 0.0; … ; 0.0 -1.0; 1.0 2.0],\n",
       "\n",
       "[1.0,4.0,-0.0,3.0,-4.0],\n",
       "[1.0 0.0 … 0.0 0.0; 0.0 1.0 … 0.0 0.0; … ; 0.0 0.0 … 1.0 0.0; 0.0 0.0 … 0.0 1.0])"
      ]
     },
     "execution_count": 104,
     "metadata": {},
     "output_type": "execute_result"
    }
   ],
   "source": [
    "get_linconstr_matrices(model, vars, params)"
   ]
  },
  {
   "cell_type": "code",
   "execution_count": 105,
   "metadata": {
    "collapsed": false
   },
   "outputs": [
    {
     "data": {
      "text/plain": [
       "2×2 Array{Float64,2}:\n",
       " 1.0  0.0\n",
       " 0.0  1.0"
      ]
     },
     "execution_count": 105,
     "metadata": {},
     "output_type": "execute_result"
    }
   ],
   "source": [
    "get_objective_matrix(model, vars, params)"
   ]
  },
  {
   "cell_type": "code",
   "execution_count": 106,
   "metadata": {
    "collapsed": false
   },
   "outputs": [
    {
     "name": "stdout",
     "output_type": "stream",
     "text": [
      "Optimize a model with 5 rows, 7 columns and 11 nonzeros\n",
      "Model has 2 quadratic objective terms\n",
      "Coefficient statistics:\n",
      "  Matrix range     [1e+00, 2e+00]\n",
      "  Objective range  [0e+00, 0e+00]\n",
      "  QObjective range [2e+00, 2e+00]\n",
      "  Bounds range     [0e+00, 0e+00]\n",
      "  RHS range        [1e+00, 4e+00]\n",
      "Presolve removed 4 rows and 5 columns\n",
      "Presolve time: 0.00s\n",
      "Presolved: 1 rows, 2 columns, 2 nonzeros\n",
      "Presolved model has 2 quadratic objective terms\n",
      "Ordering time: 0.00s\n",
      "\n",
      "Barrier statistics:\n",
      " AA' NZ     : 0.000e+00\n",
      " Factor NZ  : 1.000e+00\n",
      " Factor Ops : 1.000e+00 (less than 1 second per iteration)\n",
      " Threads    : 1\n",
      "\n",
      "                  Objective                Residual\n",
      "Iter       Primal          Dual         Primal    Dual     Compl     Time\n",
      "   0   4.96535824e+05 -5.11497999e+05  1.50e+03 2.98e+02  6.82e+05     0s\n",
      "   1   8.23980246e+01 -1.18898855e+04  1.73e+01 4.12e+00  1.17e+04     0s\n",
      "   2   1.67502711e+01 -7.27792459e+03  0.00e+00 4.12e-06  1.46e+03     0s\n",
      "   3   1.67239697e+01 -2.75129759e+01  0.00e+00 2.05e-08  8.85e+00     0s\n",
      "   4   4.23367688e+00 -3.56699417e+01  0.00e+00 2.31e-14  7.98e+00     0s\n",
      "   5   3.39214795e+00  1.83837564e+00  0.00e+00 4.44e-16  3.11e-01     0s\n",
      "   6   3.20164017e+00  3.19422350e+00  0.00e+00 0.00e+00  1.48e-03     0s\n",
      "   7   3.20000164e+00  3.19999422e+00  0.00e+00 0.00e+00  1.48e-06     0s\n",
      "   8   3.20000000e+00  3.19999999e+00  0.00e+00 4.44e-16  1.49e-09     0s\n",
      "\n",
      "Barrier solved model in 8 iterations and 0.01 seconds\n",
      "Optimal objective 3.20000000e+00\n",
      "\n"
     ]
    },
    {
     "data": {
      "text/plain": [
       ":Optimal"
      ]
     },
     "execution_count": 106,
     "metadata": {},
     "output_type": "execute_result"
    }
   ],
   "source": [
    "result = solve(model)"
   ]
  },
  {
   "cell_type": "code",
   "execution_count": 108,
   "metadata": {
    "collapsed": false
   },
   "outputs": [
    {
     "data": {
      "text/markdown": [
       "No documentation found.\n",
       "\n",
       "**Summary:**\n",
       "\n",
       "```\n",
       "immutable JuMP.ConstraintRef{M<:JuMP.AbstractModel,T<:JuMP.AbstractConstraint} <: Any\n",
       "```\n",
       "\n",
       "**Fields:**\n",
       "\n",
       "```\n",
       "m   :: M<:JuMP.AbstractModel\n",
       "idx :: Int64\n",
       "```\n"
      ],
      "text/plain": [
       "No documentation found.\n",
       "\n",
       "**Summary:**\n",
       "\n",
       "```\n",
       "immutable JuMP.ConstraintRef{M<:JuMP.AbstractModel,T<:JuMP.AbstractConstraint} <: Any\n",
       "```\n",
       "\n",
       "**Fields:**\n",
       "\n",
       "```\n",
       "m   :: M<:JuMP.AbstractModel\n",
       "idx :: Int64\n",
       "```\n"
      ]
     },
     "execution_count": 108,
     "metadata": {},
     "output_type": "execute_result"
    }
   ],
   "source": [
    "?JuMP.ConstraintRef"
   ]
  },
  {
   "cell_type": "code",
   "execution_count": 113,
   "metadata": {
    "collapsed": false
   },
   "outputs": [
    {
     "name": "stderr",
     "output_type": "stream",
     "text": [
      "WARNING: Method definition get_duals(JuMP.Model) in module Main at In[111]:2 overwritten at In[113]:2.\n"
     ]
    },
    {
     "data": {
      "text/plain": [
       "get_duals (generic function with 1 method)"
      ]
     },
     "execution_count": 113,
     "metadata": {},
     "output_type": "execute_result"
    }
   ],
   "source": [
    "function get_duals(model::Model)\n",
    "    @assert verify_form(model)\n",
    "    model.linconstrDuals\n",
    "end"
   ]
  },
  {
   "cell_type": "code",
   "execution_count": 114,
   "metadata": {
    "collapsed": false
   },
   "outputs": [
    {
     "data": {
      "text/plain": [
       "5-element Array{Float64,1}:\n",
       " -0.0\n",
       "  0.0\n",
       " -0.0\n",
       "  0.0\n",
       " -1.6"
      ]
     },
     "execution_count": 114,
     "metadata": {},
     "output_type": "execute_result"
    }
   ],
   "source": [
    "get_duals(model)"
   ]
  },
  {
   "cell_type": "code",
   "execution_count": 115,
   "metadata": {
    "collapsed": false
   },
   "outputs": [
    {
     "data": {
      "text/plain": [
       "get_active_set (generic function with 1 method)"
      ]
     },
     "execution_count": 115,
     "metadata": {},
     "output_type": "execute_result"
    }
   ],
   "source": [
    "function get_active_set(model::Model)\n",
    "    get_duals(model) .== 0\n",
    "end"
   ]
  },
  {
   "cell_type": "code",
   "execution_count": 116,
   "metadata": {
    "collapsed": false
   },
   "outputs": [
    {
     "data": {
      "text/plain": [
       "5-element BitArray{1}:\n",
       "  true\n",
       "  true\n",
       "  true\n",
       "  true\n",
       " false"
      ]
     },
     "execution_count": 116,
     "metadata": {},
     "output_type": "execute_result"
    }
   ],
   "source": [
    "get_active_set(model)"
   ]
  },
  {
   "cell_type": "code",
   "execution_count": 117,
   "metadata": {
    "collapsed": false
   },
   "outputs": [
    {
     "data": {
      "text/plain": [
       "(\n",
       "[1.0 0.0; -1.0 0.0; … ; 0.0 -1.0; 1.0 2.0],\n",
       "\n",
       "[1.0,4.0,-0.0,3.0,-4.0],\n",
       "[1.0 0.0 … 0.0 0.0; 0.0 1.0 … 0.0 0.0; … ; 0.0 0.0 … 1.0 0.0; 0.0 0.0 … 0.0 1.0])"
      ]
     },
     "execution_count": 117,
     "metadata": {},
     "output_type": "execute_result"
    }
   ],
   "source": [
    "G, W, S = get_linconstr_matrices(model, vars, params)"
   ]
  },
  {
   "cell_type": "code",
   "execution_count": 120,
   "metadata": {
    "collapsed": false
   },
   "outputs": [
    {
     "data": {
      "text/plain": [
       "5-element Array{Float64,1}:\n",
       " -0.0\n",
       "  0.0\n",
       " -0.0\n",
       "  0.0\n",
       " -1.6"
      ]
     },
     "execution_count": 120,
     "metadata": {},
     "output_type": "execute_result"
    }
   ],
   "source": [
    "lambda = get_duals(model)"
   ]
  },
  {
   "cell_type": "code",
   "execution_count": 121,
   "metadata": {
    "collapsed": false
   },
   "outputs": [
    {
     "data": {
      "text/plain": [
       "5-element BitArray{1}:\n",
       "  true\n",
       "  true\n",
       "  true\n",
       "  true\n",
       " false"
      ]
     },
     "execution_count": 121,
     "metadata": {},
     "output_type": "execute_result"
    }
   ],
   "source": [
    "A = get_active_set(model)"
   ]
  },
  {
   "cell_type": "code",
   "execution_count": 158,
   "metadata": {
    "collapsed": false
   },
   "outputs": [
    {
     "name": "stderr",
     "output_type": "stream",
     "text": [
      "WARNING: Method definition linearly_independent_subset(Any, Any) in module Main at In[155]:2 overwritten at In[158]:2.\n"
     ]
    },
    {
     "data": {
      "text/plain": [
       "linearly_independent_subset (generic function with 1 method)"
      ]
     },
     "execution_count": 158,
     "metadata": {},
     "output_type": "execute_result"
    }
   ],
   "source": [
    "function linearly_independent_subset(G, active_indices)\n",
    "    num_constraints = min(length(active_indices), size(G, 2))\n",
    "    for Ai in subsets(active_indices, num_constraints)\n",
    "        GA = @view G[Ai,:]\n",
    "        if rank(GA) == num_constraints\n",
    "            return Ai\n",
    "        end\n",
    "    end\n",
    "    error(\"No linearly indepdendent set of rows could be found\")\n",
    "end"
   ]
  },
  {
   "cell_type": "code",
   "execution_count": 185,
   "metadata": {
    "collapsed": false
   },
   "outputs": [
    {
     "name": "stderr",
     "output_type": "stream",
     "text": [
      "WARNING: Method definition critical_region(Any, Any, Any) in module Main at In[183]:2 overwritten at In[185]:2.\n"
     ]
    },
    {
     "data": {
      "text/plain": [
       "critical_region (generic function with 1 method)"
      ]
     },
     "execution_count": 185,
     "metadata": {},
     "output_type": "execute_result"
    }
   ],
   "source": [
    "function critical_region(model, vars, params)\n",
    "    H = get_objective_matrix(model, vars, params)\n",
    "    G, W, S = get_linconstr_matrices(model, vars, params)\n",
    "    active_constraint_indices = [i for (i, constr) in enumerate(model.linconstr) if isapprox(getvalue(constr.terms), constr.ub) || isapprox(getvalue(constr.terms), constr.lb)]\n",
    "    @show active_constraint_indices\n",
    "    \n",
    "    Ai = linearly_independent_subset(G, active_constraint_indices)\n",
    "    GA = @view G[Ai,:]\n",
    "    WA = @view W[Ai,:]\n",
    "    SA = @view S[Ai,:]   \n",
    "    @show H GA\n",
    "    x = collect(keys(params))\n",
    "    lambdaA = -inv(GA * inv(H) * GA') * (WA + SA * x)\n",
    "    z = vec(-inv(H) * GA' * lambdaA)\n",
    "    @assert isapprox(getvalue.(z), getvalue.(collect(keys(vars))))\n",
    "    \n",
    "    @show G S W z x\n",
    "    @show G * z .- S * x\n",
    "    \n",
    "    region_constraints = vcat(G * z .- S * x .- W,\n",
    "        -lambdaA)\n",
    "end\n",
    "    \n",
    "    \n",
    "    "
   ]
  },
  {
   "cell_type": "code",
   "execution_count": 186,
   "metadata": {
    "collapsed": false
   },
   "outputs": [
    {
     "name": "stdout",
     "output_type": "stream",
     "text": [
      "active_constraint_indices = [5]\n",
      "H = [1.0 0.0; 0.0 1.0]\n",
      "GA = [1.0 2.0]\n",
      "G = [1.0 0.0; -1.0 0.0; 0.0 1.0; 0.0 -1.0; 1.0 2.0]\n",
      "S = [1.0 0.0 0.0 0.0 0.0; 0.0 1.0 0.0 0.0 0.0; 0.0 0.0 1.0 0.0 0.0; 0.0 0.0 0.0 1.0 0.0; 0.0 0.0 0.0 0.0 1.0]\n",
      "W = [1.0,4.0,-0.0,3.0,-4.0]\n",
      "z = JuMP.GenericAffExpr{Float64,JuMP.Variable}[0.2 p[5] - 0.8,0.4 p[5] - 1.6]\n",
      "x = JuMP.Variable[p[1],p[2],p[3],p[4],p[5]]\n",
      "G * z .- S * x = JuMP.GenericAffExpr{Float64,JuMP.Variable}[0.2 p[5] - p[1] - 0.8,-0.2 p[5] - p[2] + 0.8,0.4 p[5] - p[3] - 1.6,-0.4 p[5] - p[4] + 1.6,-4]\n"
     ]
    },
    {
     "data": {
      "text/plain": [
       "6×1 Array{JuMP.GenericAffExpr{Float64,JuMP.Variable},2}:\n",
       " 0.2 p[5] - p[1] - 1.8 \n",
       " -0.2 p[5] - p[2] - 3.2\n",
       " 0.4 p[5] - p[3] - 1.6 \n",
       " -0.4 p[5] - p[4] - 1.4\n",
       " 0                     \n",
       " 0.2 p[5] - 0.8        "
      ]
     },
     "execution_count": 186,
     "metadata": {},
     "output_type": "execute_result"
    }
   ],
   "source": [
    "critical_region(model, vars, params)"
   ]
  },
  {
   "cell_type": "code",
   "execution_count": 166,
   "metadata": {
    "collapsed": false
   },
   "outputs": [
    {
     "data": {
      "text/plain": [
       "2-element Array{Float64,1}:\n",
       " -0.8\n",
       " -1.6"
      ]
     },
     "execution_count": 166,
     "metadata": {},
     "output_type": "execute_result"
    }
   ],
   "source": [
    "getvalue.(collect(keys(vars)))"
   ]
  },
  {
   "cell_type": "code",
   "execution_count": 135,
   "metadata": {
    "collapsed": false
   },
   "outputs": [
    {
     "data": {
      "text/plain": [
       "2×2 Array{Float64,2}:\n",
       "  1.0  0.0\n",
       " -1.0  0.0"
      ]
     },
     "execution_count": 135,
     "metadata": {},
     "output_type": "execute_result"
    }
   ],
   "source": [
    "G[[1,2],:]"
   ]
  },
  {
   "cell_type": "code",
   "execution_count": 122,
   "metadata": {
    "collapsed": false
   },
   "outputs": [
    {
     "data": {
      "text/plain": [
       "4-element Array{Float64,1}:\n",
       " -0.0\n",
       "  0.0\n",
       " -0.0\n",
       "  0.0"
      ]
     },
     "execution_count": 122,
     "metadata": {},
     "output_type": "execute_result"
    }
   ],
   "source": [
    "GA = G[A,:]\n",
    "WA = W[A,:]\n",
    "SA = S[A,:]\n",
    "lambdaA = lambda[A]"
   ]
  },
  {
   "cell_type": "code",
   "execution_count": 123,
   "metadata": {
    "collapsed": false
   },
   "outputs": [
    {
     "data": {
      "text/plain": [
       "4×2 Array{Float64,2}:\n",
       "  1.0   0.0\n",
       " -1.0   0.0\n",
       "  0.0   1.0\n",
       "  0.0  -1.0"
      ]
     },
     "execution_count": 123,
     "metadata": {},
     "output_type": "execute_result"
    }
   ],
   "source": [
    "GA"
   ]
  },
  {
   "cell_type": "code",
   "execution_count": 124,
   "metadata": {
    "collapsed": false
   },
   "outputs": [
    {
     "data": {
      "text/plain": [
       "2"
      ]
     },
     "execution_count": 124,
     "metadata": {},
     "output_type": "execute_result"
    }
   ],
   "source": [
    "rank(GA)"
   ]
  },
  {
   "cell_type": "code",
   "execution_count": 107,
   "metadata": {
    "collapsed": false
   },
   "outputs": [
    {
     "ename": "LoadError",
     "evalue": "MethodError: no method matching getdual(::JuMP.GenericRangeConstraint{JuMP.GenericAffExpr{Float64,JuMP.Variable}})\u001b[0m\nClosest candidates are:\n  getdual(\u001b[1m\u001b[31m::JuMP.ConstraintRef{JuMP.Model,JuMP.GenericRangeConstraint{JuMP.NonlinearExprData}}\u001b[0m) at /home/rdeits/.julia/v0.5/JuMP/src/nlp.jl:54\n  getdual(\u001b[1m\u001b[31m::JuMP.ConstraintRef{JuMP.Model,JuMP.GenericSOCConstraint{JuMP.GenericNormExpr{2,Float64,JuMP.Variable}}}\u001b[0m) at /home/rdeits/.julia/v0.5/JuMP/src/JuMP.jl:587\n  getdual(\u001b[1m\u001b[31m::JuMP.ConstraintRef{JuMP.Model,JuMP.GenericRangeConstraint{JuMP.GenericAffExpr{Float64,JuMP.Variable}}}\u001b[0m) at /home/rdeits/.julia/v0.5/JuMP/src/JuMP.jl:545\n  ...\u001b[0m",
     "output_type": "error",
     "traceback": [
      "MethodError: no method matching getdual(::JuMP.GenericRangeConstraint{JuMP.GenericAffExpr{Float64,JuMP.Variable}})\u001b[0m\nClosest candidates are:\n  getdual(\u001b[1m\u001b[31m::JuMP.ConstraintRef{JuMP.Model,JuMP.GenericRangeConstraint{JuMP.NonlinearExprData}}\u001b[0m) at /home/rdeits/.julia/v0.5/JuMP/src/nlp.jl:54\n  getdual(\u001b[1m\u001b[31m::JuMP.ConstraintRef{JuMP.Model,JuMP.GenericSOCConstraint{JuMP.GenericNormExpr{2,Float64,JuMP.Variable}}}\u001b[0m) at /home/rdeits/.julia/v0.5/JuMP/src/JuMP.jl:587\n  getdual(\u001b[1m\u001b[31m::JuMP.ConstraintRef{JuMP.Model,JuMP.GenericRangeConstraint{JuMP.GenericAffExpr{Float64,JuMP.Variable}}}\u001b[0m) at /home/rdeits/.julia/v0.5/JuMP/src/JuMP.jl:545\n  ...\u001b[0m",
      "",
      " in broadcast_t(::Function, ::Type{Any}, ::Array{JuMP.GenericRangeConstraint{JuMP.GenericAffExpr{Float64,JuMP.Variable}},1}, ::Vararg{Array{JuMP.GenericRangeConstraint{JuMP.GenericAffExpr{Float64,JuMP.Variable}},1},N}) at ./broadcast.jl:222",
      " in broadcast(::Function, ::Array{JuMP.GenericRangeConstraint{JuMP.GenericAffExpr{Float64,JuMP.Variable}},1}) at ./broadcast.jl:230"
     ]
    }
   ],
   "source": [
    "lambda = getdual.(model.linconstr)"
   ]
  },
  {
   "cell_type": "code",
   "execution_count": 25,
   "metadata": {
    "collapsed": false
   },
   "outputs": [
    {
     "data": {
      "text/plain": [
       "-1.600000000804784"
      ]
     },
     "execution_count": 25,
     "metadata": {},
     "output_type": "execute_result"
    }
   ],
   "source": [
    "getdual(constraints[5])"
   ]
  },
  {
   "cell_type": "code",
   "execution_count": 26,
   "metadata": {
    "collapsed": false
   },
   "outputs": [
    {
     "data": {
      "text/plain": [
       "(3.200000000180182,1.3999999993969696)"
      ]
     },
     "execution_count": 26,
     "metadata": {},
     "output_type": "execute_result"
    }
   ],
   "source": [
    "(getvalue(x), getvalue(y))"
   ]
  },
  {
   "cell_type": "code",
   "execution_count": 29,
   "metadata": {
    "collapsed": false
   },
   "outputs": [
    {
     "data": {
      "text/plain": [
       "JuMP.ConstraintRef{JuMP.Model,JuMP.GenericRangeConstraint{JuMP.GenericAffExpr{Float64,JuMP.Variable}}}"
      ]
     },
     "execution_count": 29,
     "metadata": {},
     "output_type": "execute_result"
    }
   ],
   "source": [
    "typeof(constraints[1])"
   ]
  },
  {
   "cell_type": "code",
   "execution_count": null,
   "metadata": {
    "collapsed": true
   },
   "outputs": [],
   "source": []
  }
 ],
 "metadata": {
  "kernelspec": {
   "display_name": "Julia 0.5.0",
   "language": "julia",
   "name": "julia-0.5"
  },
  "language_info": {
   "file_extension": ".jl",
   "mimetype": "application/julia",
   "name": "julia",
   "version": "0.5.0"
  }
 },
 "nbformat": 4,
 "nbformat_minor": 1
}
