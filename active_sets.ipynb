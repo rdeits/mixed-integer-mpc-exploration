{
 "cells": [
  {
   "cell_type": "code",
   "execution_count": 20,
   "metadata": {
    "collapsed": false
   },
   "outputs": [
    {
     "name": "stderr",
     "output_type": "stream",
     "text": [
      "\u001b[1m\u001b[34mINFO: Precompiling module Polyhedra.\n",
      "\u001b[0m\u001b[1m\u001b[34mINFO: Precompiling module CDDLib.\n",
      "\u001b[0m"
     ]
    }
   ],
   "source": [
    "using JuMP\n",
    "using Gurobi\n",
    "using DataStructures: OrderedDict\n",
    "using Iterators: subsets\n",
    "using Polyhedra\n",
    "using CDDLib"
   ]
  },
  {
   "cell_type": "code",
   "execution_count": 3,
   "metadata": {
    "collapsed": false
   },
   "outputs": [
    {
     "data": {
      "text/plain": [
       "verify_form (generic function with 1 method)"
      ]
     },
     "execution_count": 3,
     "metadata": {},
     "output_type": "execute_result"
    }
   ],
   "source": [
    "function verify_form(model::Model)\n",
    "    isempty(model.obj.aff.vars) &&\n",
    "    isempty(model.sdpconstr) && \n",
    "    isempty(model.quadconstr) && \n",
    "    isempty(model.conicconstrDuals) &&\n",
    "    all(c.lb == -Inf || c.ub == Inf for c in model.linconstr)\n",
    "end"
   ]
  },
  {
   "cell_type": "code",
   "execution_count": 95,
   "metadata": {
    "collapsed": false
   },
   "outputs": [
    {
     "name": "stderr",
     "output_type": "stream",
     "text": [
      "WARNING: Method definition get_objective_matrix(JuMP.Model, Any, Any) in module Main at In[4]:2 overwritten at In[95]:2.\n",
      "WARNING: Method definition get_linconstr_matrices(Any, Any, Any) in module Main at In[4]:16 overwritten at In[95]:16.\n"
     ]
    },
    {
     "data": {
      "text/plain": [
       "get_linconstr_matrices (generic function with 1 method)"
      ]
     },
     "execution_count": 95,
     "metadata": {},
     "output_type": "execute_result"
    }
   ],
   "source": [
    "function get_objective_matrix(model::Model, vars, params)\n",
    "    @assert verify_form(model)\n",
    "    H = zeros(Float64, (length(vars), length(vars)))\n",
    "    for i in 1:length(model.obj.qcoeffs)\n",
    "        v1 = model.obj.qvars1[i]\n",
    "        v2 = model.obj.qvars2[i]\n",
    "        c = model.obj.qcoeffs[i]\n",
    "        @assert !haskey(params, v1)\n",
    "        @assert !haskey(params, v2)\n",
    "        H[vars[v1], vars[v2]] = c\n",
    "    end\n",
    "    H + H' - Diagonal(diag(H))\n",
    "end\n",
    "\n",
    "function get_linconstr_matrices(model, vars, params)\n",
    "    @assert verify_form(model)\n",
    "    G = zeros(Float64, (length(model.linconstr), length(vars)))\n",
    "    W = zeros(Float64, length(model.linconstr))\n",
    "    S = zeros(Float64, (length(model.linconstr), length(params)))\n",
    "    \n",
    "    for (i, constraint) in enumerate(model.linconstr)\n",
    "        for (j, var) in enumerate(constraint.terms.vars)\n",
    "            coeff = constraint.terms.coeffs[j]\n",
    "            if constraint.lb == -Inf\n",
    "                W[i] = constraint.ub\n",
    "                if haskey(vars, var)\n",
    "                    G[i, vars[var]] = coeff\n",
    "                else\n",
    "                    S[i, params[var]] = -coeff\n",
    "                end\n",
    "            else\n",
    "                @assert constraint.ub == Inf\n",
    "                W[i] = -constraint.lb\n",
    "                if haskey(vars, var)\n",
    "                    G[i, vars[var]] = -coeff\n",
    "                else\n",
    "                    S[i, params[var]] = coeff\n",
    "                end\n",
    "            end\n",
    "        end\n",
    "    end\n",
    "    G, W, S\n",
    "end"
   ]
  },
  {
   "cell_type": "code",
   "execution_count": 106,
   "metadata": {
    "collapsed": false
   },
   "outputs": [
    {
     "data": {
      "text/latex": [
       "$$ \\begin{alignat*}{1}\\min\\quad & 1.079 z_{1}^2 + 0.152 z_{1}\\times z_{2} + 1.073 z_{2}^2\\\\\n",
       "\\text{Subject to} \\quad & z_{1} - x_{1} - 1.4 x_{2} \\leq 1\\\\\n",
       " & z_{2} - 0.9 x_{1} - 1.3 x_{2} \\leq 1\\\\\n",
       " & -z_{1} + x_{1} + 1.4 x_{2} \\leq 1\\\\\n",
       " & -z_{2} + 0.9 x_{1} + 1.3 x_{2} \\leq 1\\\\\n",
       " & 0.05 z_{1} - 0.1 x_{1} + 0.9 x_{2} \\leq 0.5\\\\\n",
       " & 0.05 z_{1} + 0.05 z_{2} - 0.1 x_{1} + 0.9 x_{2} \\leq 0.5\\\\\n",
       " & -0.05 z_{1} + 0.1 x_{1} - 0.9 x_{2} \\leq 0.5\\\\\n",
       " & -0.05 z_{1} - 0.05 z_{2} + 0.1 x_{1} - 0.9 x_{2} \\leq 0.5\\\\\n",
       " & z_{i} free \\quad\\forall i \\in \\{1,2\\}\\\\\n",
       " & x_{i} = 0 \\quad\\forall i \\in \\{1,2\\}\\\\\n",
       "\\end{alignat*}\n",
       " $$"
      ],
      "text/plain": [
       "Minimization problem with:\n",
       " * 8 linear constraints\n",
       " * 4 variables\n",
       "Solver is Gurobi"
      ]
     },
     "execution_count": 106,
     "metadata": {},
     "output_type": "execute_result"
    }
   ],
   "source": [
    "model = Model(solver=GurobiSolver())\n",
    "@variables model begin\n",
    "    z[1:2]\n",
    "end\n",
    "vars = OrderedDict{Variable, Int}(zip(z, 1:2))\n",
    "\n",
    "@variables model begin\n",
    "    x[1:2] == 0\n",
    "end\n",
    "params = OrderedDict{Variable, Int}(zip(x, 1:2))\n",
    "\n",
    "\n",
    "# Taking a model directly from Tondel et al. 2003, Example 1\n",
    "dt = 0.05\n",
    "A = [1 dt; 0 1]\n",
    "b = [dt^2, dt]\n",
    "H = [1.079 0.076; 0.076 1.073]\n",
    "F = [1.109 1.036; 1.573 1.517]\n",
    "G = [\n",
    "    1 0;\n",
    "    0 1;\n",
    "    -1 0;\n",
    "    0 -1;\n",
    "    dt 0;\n",
    "    dt dt;\n",
    "    -dt 0;\n",
    "    -dt -dt\n",
    "]\n",
    "W = [1; 1; 1; 1; 0.5; 0.5; 0.5; 0.5]\n",
    "S = [\n",
    "    1.0 1.4;\n",
    "    0.9 1.3;\n",
    "    -1.0 -1.4;\n",
    "    -0.9 -1.3;\n",
    "    0.1 -0.9;\n",
    "    0.1 -0.9;\n",
    "    -0.1 0.9;\n",
    "    -0.1 0.9\n",
    "]\n",
    "\n",
    "\n",
    "@constraints model begin\n",
    "    G * z .<= W + S * x\n",
    "end\n",
    "\n",
    "@objective model Min (z' * H * z)[1]\n",
    "\n",
    "@assert verify_form(model)\n",
    "\n",
    "model"
   ]
  },
  {
   "cell_type": "code",
   "execution_count": 107,
   "metadata": {
    "collapsed": false
   },
   "outputs": [
    {
     "data": {
      "text/plain": [
       "(\n",
       "[1.0 0.0; 0.0 1.0; … ; -0.05 0.0; -0.05 -0.05],\n",
       "\n",
       "[1.0,1.0,1.0,1.0,0.5,0.5,0.5,0.5],\n",
       "[1.0 1.4; 0.9 1.3; … ; -0.1 0.9; -0.1 0.9])"
      ]
     },
     "execution_count": 107,
     "metadata": {},
     "output_type": "execute_result"
    }
   ],
   "source": [
    "get_linconstr_matrices(model, vars, params)"
   ]
  },
  {
   "cell_type": "code",
   "execution_count": 108,
   "metadata": {
    "collapsed": false
   },
   "outputs": [
    {
     "data": {
      "text/plain": [
       "2×2 Array{Float64,2}:\n",
       " 1.079  0.076\n",
       " 0.076  1.073"
      ]
     },
     "execution_count": 108,
     "metadata": {},
     "output_type": "execute_result"
    }
   ],
   "source": [
    "get_objective_matrix(model, vars, params)"
   ]
  },
  {
   "cell_type": "code",
   "execution_count": 109,
   "metadata": {
    "collapsed": false
   },
   "outputs": [
    {
     "name": "stdout",
     "output_type": "stream",
     "text": [
      "Warning for adding constraints: zero or small (< 1e-13) coefficients, ignored\n",
      "Optimize a model with 8 rows, 4 columns and 26 nonzeros\n",
      "Model has 3 quadratic objective terms\n",
      "Coefficient statistics:\n",
      "  Matrix range     [5e-02, 1e+00]\n",
      "  Objective range  [0e+00, 0e+00]\n",
      "  QObjective range [3e-01, 2e+00]\n",
      "  Bounds range     [0e+00, 0e+00]\n",
      "  RHS range        [5e-01, 1e+00]\n",
      "Presolve removed 8 rows and 2 columns\n",
      "Presolve time: 0.00s\n",
      "Presolved: 0 rows, 2 columns, 0 nonzeros\n",
      "Presolved model has 3 quadratic objective terms\n",
      "Ordering time: 0.00s\n",
      "\n",
      "Barrier statistics:\n",
      " Free vars  : 1\n",
      " AA' NZ     : 0.000e+00\n",
      " Factor NZ  : 1.000e+00\n",
      " Factor Ops : 1.000e+00 (less than 1 second per iteration)\n",
      " Threads    : 1\n",
      "\n",
      "                  Objective                Residual\n",
      "Iter       Primal          Dual         Primal    Dual     Compl     Time\n",
      "   0   2.66911724e+05 -2.73977375e+05  1.04e+03 5.33e+02  1.00e+06     0s\n",
      "   1   5.17272160e-04 -5.97906241e+03  2.03e-03 1.05e-03  1.50e+03     0s\n",
      "   2   4.69978106e-04 -6.04532756e+00  2.54e-08 1.31e-08  1.51e+00     0s\n",
      "   3   5.26548672e-05 -2.47790005e-02  4.68e-11 2.41e-11  6.21e-03     0s\n",
      "   4   5.22901722e-11 -2.48502637e-05  6.66e-16 4.44e-16  6.21e-06     0s\n",
      "   5   0.00000000e+00 -2.48502132e-08  0.00e+00 3.25e-23  6.21e-09     0s\n",
      "   6   0.00000000e+00 -2.48503440e-11  0.00e+00 2.22e-16  6.21e-12     0s\n",
      "\n",
      "Barrier solved model in 6 iterations and 0.00 seconds\n",
      "Optimal objective 0.00000000e+00\n",
      "\n"
     ]
    },
    {
     "data": {
      "text/plain": [
       ":Optimal"
      ]
     },
     "execution_count": 109,
     "metadata": {},
     "output_type": "execute_result"
    }
   ],
   "source": [
    "result = solve(model)"
   ]
  },
  {
   "cell_type": "code",
   "execution_count": 110,
   "metadata": {
    "collapsed": false
   },
   "outputs": [
    {
     "data": {
      "text/plain": [
       "2-element Array{Float64,1}:\n",
       " -4.11449e-13\n",
       "  6.99796e-12"
      ]
     },
     "execution_count": 110,
     "metadata": {},
     "output_type": "execute_result"
    }
   ],
   "source": [
    "getvalue.(z)"
   ]
  },
  {
   "cell_type": "code",
   "execution_count": 111,
   "metadata": {
    "collapsed": false
   },
   "outputs": [
    {
     "name": "stderr",
     "output_type": "stream",
     "text": [
      "WARNING: Method definition linearly_independent_subset(Any, Any) in module Main at In[11]:2 overwritten at In[111]:2.\n"
     ]
    },
    {
     "data": {
      "text/plain": [
       "linearly_independent_subset (generic function with 1 method)"
      ]
     },
     "execution_count": 111,
     "metadata": {},
     "output_type": "execute_result"
    }
   ],
   "source": [
    "function linearly_independent_subset(G, active_indices)\n",
    "    num_constraints = min(length(active_indices), size(G, 2))\n",
    "    for Ai in subsets(active_indices, num_constraints)\n",
    "        GA = @view G[Ai,:]\n",
    "        if rank(GA) == num_constraints\n",
    "            return Ai\n",
    "        end\n",
    "    end\n",
    "    error(\"No linearly indepdendent set of rows could be found\")\n",
    "end"
   ]
  },
  {
   "cell_type": "code",
   "execution_count": 113,
   "metadata": {
    "collapsed": false
   },
   "outputs": [
    {
     "name": "stderr",
     "output_type": "stream",
     "text": [
      "WARNING: Method definition critical_region(Any, Any, Any, Any, Any) in module Main at In[112]:2 overwritten at In[113]:2.\n"
     ]
    },
    {
     "data": {
      "text/plain": [
       "critical_region (generic function with 2 methods)"
      ]
     },
     "execution_count": 113,
     "metadata": {},
     "output_type": "execute_result"
    }
   ],
   "source": [
    "function critical_region(model, vars, params, param_lb, param_ub)\n",
    "    H = get_objective_matrix(model, vars, params)\n",
    "    G, W, S = get_linconstr_matrices(model, vars, params)\n",
    "    active_constraint_indices = [i for (i, constr) in enumerate(model.linconstr) if isapprox(getvalue(constr.terms), constr.ub) || isapprox(getvalue(constr.terms), constr.lb)]\n",
    "    @show active_constraint_indices\n",
    "    \n",
    "    Ai = linearly_independent_subset(G, active_constraint_indices)\n",
    "    GA = @view G[Ai,:]\n",
    "    WA = @view W[Ai,:]\n",
    "    SA = @view S[Ai,:]   \n",
    "    @show H GA\n",
    "    \n",
    "    crmodel = Model()\n",
    "    @variable crmodel x[1:length(params)]\n",
    "    lambdaA = -inv(GA * inv(H) * GA') * (WA + SA * x)\n",
    "    z = vec(-inv(H) * GA' * lambdaA)\n",
    "    @constraint crmodel G * z .- S * x .- W .<= 0\n",
    "    @constraint crmodel -lambdaA .<= 0\n",
    "#     @constraint crmodel param_lb .<= x .<= param_ub\n",
    "    crmodel\n",
    "end\n",
    "\n",
    "    "
   ]
  },
  {
   "cell_type": "code",
   "execution_count": 114,
   "metadata": {
    "collapsed": false
   },
   "outputs": [
    {
     "name": "stdout",
     "output_type": "stream",
     "text": [
      "active_constraint_indices = Int64[]\n",
      "H = [1.079 0.076; 0.076 1.073]\n",
      "GA = \n"
     ]
    },
    {
     "data": {
      "text/latex": [
       "$$ \\begin{alignat*}{1}\\min\\quad & 0\\\\\n",
       "\\text{Subject to} \\quad & -x_{1} - 1.4 x_{2} \\leq 1\\\\\n",
       " & -0.9 x_{1} - 1.3 x_{2} \\leq 1\\\\\n",
       " & x_{1} + 1.4 x_{2} \\leq 1\\\\\n",
       " & 0.9 x_{1} + 1.3 x_{2} \\leq 1\\\\\n",
       " & -0.1 x_{1} + 0.9 x_{2} \\leq 0.5\\\\\n",
       " & -0.1 x_{1} + 0.9 x_{2} \\leq 0.5\\\\\n",
       " & 0.1 x_{1} - 0.9 x_{2} \\leq 0.5\\\\\n",
       " & 0.1 x_{1} - 0.9 x_{2} \\leq 0.5\\\\\n",
       " & x_{i} free \\quad\\forall i \\in \\{1,2\\}\\\\\n",
       "\\end{alignat*}\n",
       " $$"
      ],
      "text/plain": [
       "Feasibility problem with:\n",
       " * 8 linear constraints\n",
       " * 2 variables\n",
       "Solver is default solver"
      ]
     },
     "execution_count": 114,
     "metadata": {},
     "output_type": "execute_result"
    }
   ],
   "source": [
    "crmodel = critical_region(model, vars, params, -10*ones(5), 10*ones(5))"
   ]
  },
  {
   "cell_type": "code",
   "execution_count": 115,
   "metadata": {
    "collapsed": false
   },
   "outputs": [
    {
     "data": {
      "text/plain": [
       "V-representation\n",
       "begin\n",
       " 4 3 real\n",
       " 1 1.5384615384615388 -0.3846153846153846\n",
       " 1 0.19230769230769162 0.5769230769230768\n",
       " 1 -1.538461538461538 0.3846153846153845\n",
       " 1 -0.19230769230769235 -0.5769230769230769\n",
       "end"
      ]
     },
     "execution_count": 115,
     "metadata": {},
     "output_type": "execute_result"
    }
   ],
   "source": [
    "vr = SimpleVRepresentation(polyhedron(crmodel, CDDLibrary()))"
   ]
  },
  {
   "cell_type": "code",
   "execution_count": 116,
   "metadata": {
    "collapsed": false
   },
   "outputs": [
    {
     "data": {
      "text/plain": [
       "4×2 Array{Float64,2}:\n",
       "  1.53846   -0.384615\n",
       "  0.192308   0.576923\n",
       " -1.53846    0.384615\n",
       " -0.192308  -0.576923"
      ]
     },
     "execution_count": 116,
     "metadata": {},
     "output_type": "execute_result"
    }
   ],
   "source": [
    "vr.V"
   ]
  },
  {
   "cell_type": "code",
   "execution_count": 117,
   "metadata": {
    "collapsed": true
   },
   "outputs": [],
   "source": [
    "using Plots"
   ]
  },
  {
   "cell_type": "code",
   "execution_count": 122,
   "metadata": {
    "collapsed": false
   },
   "outputs": [
    {
     "data": {
      "text/html": [
       "<img src=\"data:image/png;base64,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\" />"
      ]
     },
     "execution_count": 122,
     "metadata": {},
     "output_type": "execute_result"
    }
   ],
   "source": [
    "plot(vr.V[[1:end; 1],1], vr.V[[1:end; 1],2], fill=(0,:orange))"
   ]
  },
  {
   "cell_type": "code",
   "execution_count": null,
   "metadata": {
    "collapsed": true
   },
   "outputs": [],
   "source": []
  }
 ],
 "metadata": {
  "kernelspec": {
   "display_name": "Julia 0.5.0",
   "language": "julia",
   "name": "julia-0.5"
  },
  "language_info": {
   "file_extension": ".jl",
   "mimetype": "application/julia",
   "name": "julia",
   "version": "0.5.0"
  }
 },
 "nbformat": 4,
 "nbformat_minor": 1
}
